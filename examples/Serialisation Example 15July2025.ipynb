{
 "cells": [
  {
   "cell_type": "markdown",
   "id": "67ef7f04-e217-4d00-9fb7-3cbd19527d5d",
   "metadata": {},
   "source": [
    "# KGOntologies Example N#1\n",
    "## AcmeBank Stafflist\n",
    "\n",
    "Load a data file containing members of staff and the departments in which they are employed and process it into a marked-up knowledge-graph for visualisation. \n",
    "\n"
   ]
  },
  {
   "cell_type": "code",
   "execution_count": 1,
   "id": "03e4d8da-525b-4a47-887a-24c45c425f67",
   "metadata": {},
   "outputs": [
    {
     "name": "stderr",
     "output_type": "stream",
     "text": [
      "/home/tomk/.local/share/virtualenvs/kgontologies-24Yr4f6_/lib/python3.10/site-packages/gravis/_internal/plotting/template_system.py:5: UserWarning: pkg_resources is deprecated as an API. See https://setuptools.pypa.io/en/latest/pkg_resources.html. The pkg_resources package is slated for removal as early as 2025-11-30. Refrain from using this package or pin to Setuptools<81.\n",
      "  import pkg_resources as _pkg_resources\n"
     ]
    }
   ],
   "source": [
    "import os, sys\n",
    "\n",
    "srcdir=r'..'\n",
    "if srcdir not in sys.path:\n",
    "    sys.path.append(srcdir)\n",
    "\n",
    "from IPython.display import display, Image, HTML\n",
    "import pandas as pd\n",
    "import src.graphvisutils_gravis as graphvisutils_gravis \n",
    "import src.graphloader as graphloader\n",
    "import src.queryaugment as queryaugment\n",
    "\n",
    "import src.visgui as gui\n",
    "\n",
    "import gravis as gv\n",
    "\n",
    "import rdflib\n",
    "from rdflib import URIRef, Literal, Namespace\n",
    "import uuid\n",
    "from hashlib import md5\n",
    "import json\n",
    "\n",
    "from functools import partial"
   ]
  },
  {
   "cell_type": "code",
   "execution_count": 2,
   "id": "1bd98ff9-84b3-4fda-87d2-60ae09a707b2",
   "metadata": {},
   "outputs": [],
   "source": [
    "# Locate and read the data file\n",
    "data_df = pd.read_excel(\"../data/AcmeBankStaffList.xlsx\", na_values='None')"
   ]
  },
  {
   "cell_type": "code",
   "execution_count": 3,
   "id": "786d1489-4217-46a8-b5ab-37706894abd2",
   "metadata": {},
   "outputs": [],
   "source": [
    "# Load and bind associated ontologies for additional data enrichment\n",
    "kgdmcar_g = rdflib.Graph()\n",
    "kgdmcar_g.parse ('../ontologies/kgdmcar.owl', format='xml')\n",
    "\n",
    "kgnaming_g = rdflib.Graph()\n",
    "kgnaming_g.parse ('../ontologies/kgnaming.owl', format='xml')\n",
    "\n",
    "ontology_graph = rdflib.Graph(bind_namespaces=\"rdflib\")\n",
    "for t in kgnaming_g.triples((None, None, None)):\n",
    "    ontology_graph.add(t)\n",
    "\n",
    "for t in kgdmcar_g.triples((None, None, None)):\n",
    "    ontology_graph.add(t)"
   ]
  },
  {
   "cell_type": "code",
   "execution_count": 4,
   "id": "61cf6abc-9c0a-4cb4-8f66-165e5eed4393",
   "metadata": {
    "scrolled": true
   },
   "outputs": [],
   "source": [
    "# Convert the data into a raw graph format\n",
    "rawg=graphloader.rdflib_graph_from_dataframe(data_df[0:500])\n",
    "\n",
    "# Open a serialisation config file and convert the raw graph into triples describing entities, relations and literals\n",
    "serial_config = json.load(open(\"../serialisations/acmestaff_serialisation.json\", \"r\"))\n",
    "load_graph  = graphloader.process_anonymous_data_graph(rawg, serial_config, data_namespace=\"http://data#\")\n",
    "# Bind some appropriate namespaces to the resulting subgraph object\n",
    "namespace_dict = {  \"kgnam\" : Namespace(\"http://www.semanticweb.org/tomk/ontologies/2025/5/kgnaming#\"),\n",
    "                    \"dmcar\" : Namespace(\"http://www.semanticweb.org/tomk/ontologies/2025/5/kgdmcar#\"),\n",
    "                    \"acme\" : Namespace(\"http://www.acmebank.org/\")}\n",
    "graphloader.bind_namespaces(load_graph, namespace_dict)\n"
   ]
  },
  {
   "cell_type": "code",
   "execution_count": 5,
   "id": "7fd1659d-e9f6-4f90-927a-1478339ca270",
   "metadata": {},
   "outputs": [
    {
     "name": "stdout",
     "output_type": "stream",
     "text": [
      "{rdflib.term.URIRef('http://www.acmebank.org/EndDate'): True, rdflib.term.URIRef('http://www.acmebank.org/Gender'): True, rdflib.term.URIRef('http://www.acmebank.org/HasRole'): True, rdflib.term.URIRef('http://www.acmebank.org/Name'): True, rdflib.term.URIRef('http://www.acmebank.org/StaffID'): True, rdflib.term.URIRef('http://www.acmebank.org/StartDate'): True, rdflib.term.URIRef('http://www.acmebank.org/WorksFor'): True, rdflib.term.URIRef('http://www.semanticweb.org/tomk/ontologies/2025/5/kgnaming#FullyQualifiedName'): True, rdflib.term.URIRef('http://www.w3.org/1999/02/22-rdf-syntax-ns#type'): True, rdflib.term.URIRef('http://www.w3.org/2000/01/rdf-schema#label'): True}\n",
      "set()\n",
      "set()\n"
     ]
    },
    {
     "data": {
      "application/vnd.jupyter.widget-view+json": {
       "model_id": "dba25006c90043aa93191ea22617ab1d",
       "version_major": 2,
       "version_minor": 0
      },
      "text/plain": [
       "VBox(children=(Accordion(children=(SelectMultiple(description='Types', index=(0, 1, 2), layout=Layout(width='7…"
      ]
     },
     "execution_count": 5,
     "metadata": {},
     "output_type": "execute_result"
    }
   ],
   "source": [
    "\n",
    "test_ui = gui.gui_visualisation_control(load_graph)\n",
    "test_ui.control"
   ]
  },
  {
   "cell_type": "code",
   "execution_count": 8,
   "id": "d6f3bbe0-3b2b-4bd8-bdea-4332c2ea8fd7",
   "metadata": {},
   "outputs": [],
   "source": [
    "# Run a SPARQL Query to Retrieve only Active Staff Members (i.e. those with an assigned role)\n",
    "# Note that this query is only returning nodes that meed certain conditions, the resulting\n",
    "# resultset is not in s,p,o form, just contains a collection of node-uris.\n",
    "\n",
    "active_staff_q = \"\"\"\n",
    "PREFIX acme: <http://www.acmebank.org/>\n",
    "\n",
    "SELECT ?s ?q\n",
    "WHERE \n",
    "    {\n",
    "    \n",
    "    {SELECT ?s ?q\n",
    "    WHERE { \n",
    "    ?s a ?type.\n",
    "    ?s acme:HasRole ?q.\n",
    "    ?q a acme:Role.\n",
    "    VALUES ?type {acme:Person} .\n",
    "    }}\n",
    "\n",
    "UNION\n",
    "\n",
    "    {SELECT ?s\n",
    "    WHERE { \n",
    "    ?s a ?type.\n",
    "    VALUES ?type {acme:Role} .\n",
    "    }}\n",
    "\n",
    "UNION\n",
    "    \n",
    "    {SELECT ?s\n",
    "    WHERE { \n",
    "    ?s a ?type.\n",
    "    VALUES ?type {acme:Department} .\n",
    "    }}\n",
    "\n",
    "}\n",
    "\n",
    "\n",
    "\"\"\"\n"
   ]
  },
  {
   "cell_type": "code",
   "execution_count": 9,
   "id": "d8b1ae51-be43-4439-b8fc-2347317fd9f7",
   "metadata": {},
   "outputs": [],
   "source": [
    "# Run the query, then augment it with the get_x options, this allows for simpler workflow and easier sparql queries to be performed\n",
    "# Augmentation results in a new subgraph, which is driven from the parameters\n",
    "subgraph=queryaugment.augment_sparql_to_graph(load_graph, \n",
    "                          active_staff_q, \n",
    "                          get_types=True, \n",
    "                          get_labels=True, \n",
    "                          get_literals=True, \n",
    "                          get_cross_links=True, \n",
    "                          sparql_option=False)"
   ]
  },
  {
   "cell_type": "code",
   "execution_count": 10,
   "id": "76996187-47ec-4734-9fb8-bc82b1d3916c",
   "metadata": {},
   "outputs": [],
   "source": [
    "# Bind some appropriate namespaces to the resulting subgraph object\n",
    "graphloader.bind_namespaces(subgraph, namespace_dict)"
   ]
  },
  {
   "cell_type": "code",
   "execution_count": 12,
   "id": "db043a73-306e-44c9-8168-de8fe86ae7de",
   "metadata": {},
   "outputs": [
    {
     "name": "stdout",
     "output_type": "stream",
     "text": [
      "{rdflib.term.URIRef('http://www.acmebank.org/EndDate'): True, rdflib.term.URIRef('http://www.acmebank.org/Gender'): True, rdflib.term.URIRef('http://www.acmebank.org/HasRole'): True, rdflib.term.URIRef('http://www.acmebank.org/Name'): True, rdflib.term.URIRef('http://www.acmebank.org/StaffID'): True, rdflib.term.URIRef('http://www.acmebank.org/StartDate'): True, rdflib.term.URIRef('http://www.acmebank.org/WorksFor'): True, rdflib.term.URIRef('http://www.semanticweb.org/tomk/ontologies/2025/5/kgnaming#FullyQualifiedName'): True, rdflib.term.URIRef('http://www.w3.org/1999/02/22-rdf-syntax-ns#type'): True, rdflib.term.URIRef('http://www.w3.org/2000/01/rdf-schema#label'): True}\n",
      "set()\n",
      "set()\n"
     ]
    },
    {
     "data": {
      "application/vnd.jupyter.widget-view+json": {
       "model_id": "26a13971000d47af95be68b2a2f3db03",
       "version_major": 2,
       "version_minor": 0
      },
      "text/plain": [
       "VBox(children=(Accordion(children=(SelectMultiple(description='Types', index=(0, 1, 2), layout=Layout(width='7…"
      ]
     },
     "execution_count": 12,
     "metadata": {},
     "output_type": "execute_result"
    }
   ],
   "source": [
    "subgraph_ui = gui.gui_visualisation_control(subgraph)\n",
    "subgraph_ui.control"
   ]
  },
  {
   "cell_type": "code",
   "execution_count": null,
   "id": "c0c75f7e-3708-400e-88b2-715a0f8716f6",
   "metadata": {},
   "outputs": [],
   "source": []
  },
  {
   "cell_type": "code",
   "execution_count": null,
   "id": "9f73fb31-67de-461b-8ca7-6b688d4a135c",
   "metadata": {},
   "outputs": [],
   "source": []
  }
 ],
 "metadata": {
  "kernelspec": {
   "display_name": "kgontologies",
   "language": "python",
   "name": "kgontologies"
  },
  "language_info": {
   "codemirror_mode": {
    "name": "ipython",
    "version": 3
   },
   "file_extension": ".py",
   "mimetype": "text/x-python",
   "name": "python",
   "nbconvert_exporter": "python",
   "pygments_lexer": "ipython3",
   "version": "3.10.12"
  }
 },
 "nbformat": 4,
 "nbformat_minor": 5
}
