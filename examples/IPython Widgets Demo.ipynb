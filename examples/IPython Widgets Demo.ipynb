{
 "cells": [
  {
   "cell_type": "markdown",
   "id": "fc27555e-20a8-46ab-aa47-d426ad22f51e",
   "metadata": {},
   "source": [
    "# Ipython Widgets Demo"
   ]
  },
  {
   "cell_type": "code",
   "execution_count": 1,
   "id": "44bfb290-ba3e-4b54-8b5b-1dcbf894c5df",
   "metadata": {},
   "outputs": [
    {
     "name": "stderr",
     "output_type": "stream",
     "text": [
      "/home/tomk/.local/share/virtualenvs/kgontologies-24Yr4f6_/lib/python3.10/site-packages/gravis/_internal/plotting/template_system.py:5: UserWarning: pkg_resources is deprecated as an API. See https://setuptools.pypa.io/en/latest/pkg_resources.html. The pkg_resources package is slated for removal as early as 2025-11-30. Refrain from using this package or pin to Setuptools<81.\n",
      "  import pkg_resources as _pkg_resources\n"
     ]
    }
   ],
   "source": [
    "import os, sys\n",
    "\n",
    "srcdir=r'..'\n",
    "if srcdir not in sys.path:\n",
    "    sys.path.append(srcdir)\n",
    "\n",
    "from IPython.display import display, Image, HTML\n",
    "import pandas as pd\n",
    "import src.graphvisutils_gravis as graphvisutils_gravis \n",
    "import src.graphloader as graphloader\n",
    "import src.queryaugment as queryaugment\n",
    "import src.colourschemes as colourschemes\n",
    "import gravis as gv\n",
    "import src.graph_filters as graph_filters\n",
    "\n",
    "\n",
    "import rdflib\n",
    "from rdflib import URIRef, Literal, Namespace\n",
    "from rdflib.namespace import RDF\n",
    "import uuid\n",
    "from hashlib import md5\n",
    "import json\n",
    "from functools import partial\n",
    "\n",
    "import urllib.parse\n",
    "\n",
    "\n",
    "from math import sin, cos, pi"
   ]
  },
  {
   "cell_type": "code",
   "execution_count": 2,
   "id": "40efec7a-287c-4df7-a47b-08a43410b17c",
   "metadata": {},
   "outputs": [],
   "source": [
    "import ipywidgets as widgets"
   ]
  },
  {
   "cell_type": "code",
   "execution_count": 3,
   "id": "77c47bad-29bb-42ec-bc20-017a6331a016",
   "metadata": {},
   "outputs": [],
   "source": [
    "# Load conceptual data model\n",
    "# Locate and read the data file\n",
    "#data_df = pd.read_excel(\"../../DMCAR/examples/paymentsdatamodels/Payments Conceptual Model (DMCAR) v0.3001.xlsx\", na_values='None')\n",
    "data_df = pd.read_excel(\"../../DMCAR/examples/paymentsdatamodels/General Payments Logical Model (DMCAR) v0.006.xlsx\", na_values='None')"
   ]
  },
  {
   "cell_type": "code",
   "execution_count": 4,
   "id": "ac14a007-d27e-4db8-9179-28d938034658",
   "metadata": {},
   "outputs": [],
   "source": [
    "# Load and bind associated ontologies for additional data enrichment\n",
    "#kgdmcar_g = rdflib.Graph()\n",
    "#kgdmcar_g.parse ('../ontologies/kgdmcar.owl', format='xml')\n",
    "\n",
    "kgnaming_g = rdflib.Graph()\n",
    "kgnaming_g.parse ('../ontologies/kgnaming.owl', format='xml')\n",
    "\n",
    "ontology_graph = rdflib.Graph(bind_namespaces=\"rdflib\")\n",
    "for t in kgnaming_g.triples((None, None, None)):\n",
    "    ontology_graph.add(t)\n",
    "\n",
    "#for t in kgdmcar_g.triples((None, None, None)):\n",
    "#    ontology_graph.add(t)"
   ]
  },
  {
   "cell_type": "code",
   "execution_count": 5,
   "id": "692672f6-c983-4d89-9eee-d21d511569a2",
   "metadata": {},
   "outputs": [],
   "source": [
    "# Convert the data into a raw graph format\n",
    "rawg=graphloader.rdflib_graph_from_dataframe(data_df)"
   ]
  },
  {
   "cell_type": "code",
   "execution_count": 6,
   "id": "b36021cc-c28a-42c4-8442-5aa4f41912c5",
   "metadata": {
    "scrolled": true
   },
   "outputs": [],
   "source": [
    "# Open a serialisation config file and convert the raw graph into triples describing entities, relations and literals\n",
    "serial_config = json.load(open(\"../serialisations/dmcar_serialisation.json\", \"r\"))\n",
    "load_graph  = graphloader.process_anonymous_data_graph(rawg, serial_config, data_namespace=\"http://data#\")"
   ]
  },
  {
   "cell_type": "code",
   "execution_count": 7,
   "id": "11cf108c-73b2-4628-88cf-e68b0827c98e",
   "metadata": {},
   "outputs": [],
   "source": [
    "# Bind some appropriate namespaces to the resulting subgraph object\n",
    "namespace_dict = {  \"kgnam\" : Namespace(\"http://www.semanticweb.org/tomk/ontologies/2025/5/kgnaming#\"),\n",
    "                    \"dmcar\" : Namespace(\"http://www.semanticweb.org/tomk/ontologies/2025/5/kgdmcar#\"),\n",
    "                    \"acme\" : Namespace(\"http://www.acmebank.org/\")}\n",
    "graphloader.bind_namespaces(load_graph, namespace_dict)\n"
   ]
  },
  {
   "cell_type": "code",
   "execution_count": null,
   "id": "9039f4a5-8ab9-46da-a695-cfb24c4b1b10",
   "metadata": {},
   "outputs": [],
   "source": []
  },
  {
   "cell_type": "code",
   "execution_count": 8,
   "id": "3f5d6eb8-52f3-47d9-8a91-f9c460cbaaf8",
   "metadata": {},
   "outputs": [],
   "source": [
    "\n",
    "import src.visgui as gui"
   ]
  },
  {
   "cell_type": "code",
   "execution_count": 9,
   "id": "f142e3aa-bd5b-4f5f-b3fa-31de737721dc",
   "metadata": {},
   "outputs": [],
   "source": [
    "test_ui = gui.gui_visualisation_control(load_graph)"
   ]
  },
  {
   "cell_type": "code",
   "execution_count": 10,
   "id": "be5a4634-e183-466d-be1e-63dd6f127a76",
   "metadata": {},
   "outputs": [
    {
     "data": {
      "application/vnd.jupyter.widget-view+json": {
       "model_id": "099b579aeffc4fe0994dcea909a3b2b4",
       "version_major": 2,
       "version_minor": 0
      },
      "text/plain": [
       "VBox(children=(Accordion(children=(SelectMultiple(description='Types', index=(0, 1, 2, 3, 4, 5), layout=Layout…"
      ]
     },
     "execution_count": 10,
     "metadata": {},
     "output_type": "execute_result"
    }
   ],
   "source": [
    "test_ui.control"
   ]
  },
  {
   "cell_type": "code",
   "execution_count": null,
   "id": "aa6c0a98-5ed9-4cba-a1ee-e004f3017dfd",
   "metadata": {},
   "outputs": [],
   "source": []
  }
 ],
 "metadata": {
  "kernelspec": {
   "display_name": "Python 3 (ipykernel)",
   "language": "python",
   "name": "python3"
  },
  "language_info": {
   "codemirror_mode": {
    "name": "ipython",
    "version": 3
   },
   "file_extension": ".py",
   "mimetype": "text/x-python",
   "name": "python",
   "nbconvert_exporter": "python",
   "pygments_lexer": "ipython3",
   "version": "3.10.12"
  }
 },
 "nbformat": 4,
 "nbformat_minor": 5
}
